{
 "cells": [
  {
   "cell_type": "code",
   "execution_count": 6,
   "metadata": {},
   "outputs": [
    {
     "name": "stdout",
     "output_type": "stream",
     "text": [
      "Defaulting to user installation because normal site-packages is not writeable\n",
      "Requirement already satisfied: opencv-python in /home/sabahat/.local/lib/python3.7/site-packages (4.2.0.34)\n",
      "Requirement already satisfied: numpy>=1.14.5 in /home/sabahat/.local/lib/python3.7/site-packages (from opencv-python) (1.18.2)\n",
      "Note: you may need to restart the kernel to use updated packages.\n"
     ]
    }
   ],
   "source": [
    "pip install opencv-python"
   ]
  },
  {
   "cell_type": "code",
   "execution_count": 3,
   "metadata": {},
   "outputs": [
    {
     "name": "stdout",
     "output_type": "stream",
     "text": [
      "Defaulting to user installation because normal site-packages is not writeable\n",
      "Collecting imutils\n",
      "  Downloading imutils-0.5.3.tar.gz (17 kB)\n",
      "Building wheels for collected packages: imutils\n",
      "  Building wheel for imutils (setup.py) ... \u001b[?25ldone\n",
      "\u001b[?25h  Created wheel for imutils: filename=imutils-0.5.3-py3-none-any.whl size=25850 sha256=d1a60940f3d2120dc79ac4330941460e32bb22766f687c846de5080440e0b8aa\n",
      "  Stored in directory: /home/sabahat/.cache/pip/wheels/fc/9c/6d/1826267c72afa51b564c9c6e0f66abc806879338bc593a2270\n",
      "Successfully built imutils\n",
      "Installing collected packages: imutils\n",
      "Successfully installed imutils-0.5.3\n",
      "Note: you may need to restart the kernel to use updated packages.\n"
     ]
    }
   ],
   "source": [
    "pip install imutils"
   ]
  },
  {
   "cell_type": "code",
   "execution_count": null,
   "metadata": {},
   "outputs": [],
   "source": [
    "# import the necessary packages\n",
    "from skimage import feature\n",
    "import numpy as np\n",
    "class LocalBinaryPatterns:\n",
    "\tdef __init__(self, numPoints, radius):\n",
    "\t\t# store the number of points and radius\n",
    "\t\tself.numPoints = numPoints\n",
    "\t\tself.radius = radius\n",
    "\tdef describe(self, image, eps=1e-7):\n",
    "\t\t# compute the Local Binary Pattern representation\n",
    "\t\t# of the image, and then use the LBP representation\n",
    "\t\t# to build the histogram of patterns\n",
    "\t\tlbp = feature.local_binary_pattern(image, self.numPoints,\n",
    "\t\t\tself.radius, method=\"uniform\")\n",
    "\t\t(hist, _) = np.histogram(lbp.ravel(),\n",
    "\t\t\tbins=np.arange(0, self.numPoints + 3),\n",
    "\t\t\trange=(0, self.numPoints + 2))\n",
    "\t\t# normalize the histogram\n",
    "\t\thist = hist.astype(\"float\")\n",
    "\t\thist /= (hist.sum() + eps)\n",
    "\t\t# return the histogram of Local Binary Patterns\n",
    "\t\treturn hist\n",
    "# import the necessary packages\n",
    "#from pyimagesearch.localbinarypatterns import LocalBinaryPatterns\n",
    "from sklearn.svm import LinearSVC\n",
    "from imutils import paths\n",
    "import statistics\n",
    "import glob\n",
    "import argparse\n",
    "import cv2\n",
    "import os\n",
    "# initialize the local binary patterns descriptor along with\n",
    "# the data and label lists\n",
    "desc = LocalBinaryPatterns(24, 8)\n",
    "data = []\n",
    "labels = []\n",
    "count=1\n",
    "folders = glob.glob('Atrophymasked')\n",
    "imagenames_list = []\n",
    "for folder in folders:\n",
    "    for f in glob.glob(folder+'/*.jpg'):\n",
    "        imagenames_list.append(f)\n",
    "\n",
    "read_images = []\n",
    "\n",
    "for image in imagenames_list:\n",
    "    read_images.append(cv2.imread(image))\n",
    "# loop over the training images\n",
    "for imm in range(len(read_images)):\n",
    "    # load the image, convert it to grayscale, and describe it\n",
    "    image = read_images[imm]\n",
    "    gray = cv2.cvtColor(image, cv2.COLOR_BGR2GRAY)\n",
    "    hist = desc.describe(gray)\n",
    "    hist= statistics.mean(sum(hist))\n",
    "    data.append(hist)\n",
    "    #print(data)\n",
    "    # extract the label from the image path, then update the\n",
    "    # label and data lists\n",
    "    if count < 18:\n",
    "        namee = 'Not_Myopic'\n",
    "        labels.append(namee)\n",
    "    elif count < 102:\n",
    "        namee = 'Not_Myopic'\n",
    "        labels.append(namee)\n",
    "    elif count < 312:\n",
    "        namee = 'Pathologically Myopic'\n",
    "        labels.append(namee)\n",
    "    count=count+1\n",
    "\n",
    "\n",
    "\n",
    "f = open(\"Posterior1.csv\", \"w\")\n",
    "f.write(\"{},{}\\n\".format(\"Features\",\"class\"))\n",
    "for x in zip(data,labels):\n",
    "    f.write(\"{},{}\\n\".format(x[0], x[1]))\n",
    "cv2.waitKey()\n",
    "cv2.destroyAllWindows()"
   ]
  },
  {
   "cell_type": "code",
   "execution_count": null,
   "metadata": {},
   "outputs": [],
   "source": []
  }
 ],
 "metadata": {
  "kernelspec": {
   "display_name": "Python 3",
   "language": "python",
   "name": "python3"
  },
  "language_info": {
   "codemirror_mode": {
    "name": "ipython",
    "version": 3
   },
   "file_extension": ".py",
   "mimetype": "text/x-python",
   "name": "python",
   "nbconvert_exporter": "python",
   "pygments_lexer": "ipython3",
   "version": "3.7.5"
  }
 },
 "nbformat": 4,
 "nbformat_minor": 4
}
