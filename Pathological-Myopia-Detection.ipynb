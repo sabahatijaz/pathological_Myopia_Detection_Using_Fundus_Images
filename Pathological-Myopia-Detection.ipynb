{
 "cells": [
  {
   "cell_type": "markdown",
   "metadata": {},
   "source": [
    "## Pathological Myopia Detection Using Fundus Images"
   ]
  },
  {
   "cell_type": "code",
   "execution_count": null,
   "metadata": {},
   "outputs": [
    {
     "name": "stdout",
     "output_type": "stream",
     "text": [
      "Defaulting to user installation because normal site-packages is not writeable\n",
      "Collecting tensorflow\n",
      "  Downloading tensorflow-2.1.0-cp37-cp37m-manylinux2010_x86_64.whl (421.8 MB)\n",
      "\u001b[K     |██▉                             | 37.5 MB 18 kB/s eta 5:45:5047    |█▏                              | 15.8 MB 181 kB/s eta 0:37:13"
     ]
    }
   ],
   "source": [
    "pip install tensorflow"
   ]
  },
  {
   "cell_type": "code",
   "execution_count": 1,
   "metadata": {},
   "outputs": [
    {
     "ename": "ModuleNotFoundError",
     "evalue": "No module named 'tensorflow'",
     "output_type": "error",
     "traceback": [
      "\u001b[0;31m---------------------------------------------------------------------------\u001b[0m",
      "\u001b[0;31mModuleNotFoundError\u001b[0m                       Traceback (most recent call last)",
      "\u001b[0;32m<ipython-input-1-82963442cfc4>\u001b[0m in \u001b[0;36m<module>\u001b[0;34m\u001b[0m\n\u001b[1;32m      2\u001b[0m \u001b[0;32mimport\u001b[0m \u001b[0mrandom\u001b[0m\u001b[0;34m\u001b[0m\u001b[0;34m\u001b[0m\u001b[0m\n\u001b[1;32m      3\u001b[0m \u001b[0;32mimport\u001b[0m \u001b[0mnumpy\u001b[0m \u001b[0;32mas\u001b[0m \u001b[0mnp\u001b[0m\u001b[0;34m\u001b[0m\u001b[0;34m\u001b[0m\u001b[0m\n\u001b[0;32m----> 4\u001b[0;31m \u001b[0;32mimport\u001b[0m \u001b[0mtensorflow\u001b[0m \u001b[0;32mas\u001b[0m \u001b[0mtf\u001b[0m\u001b[0;34m\u001b[0m\u001b[0;34m\u001b[0m\u001b[0m\n\u001b[0m\u001b[1;32m      5\u001b[0m \u001b[0;32mimport\u001b[0m \u001b[0mmatplotlib\u001b[0m \u001b[0;32mas\u001b[0m \u001b[0mplt\u001b[0m\u001b[0;34m\u001b[0m\u001b[0;34m\u001b[0m\u001b[0m\n",
      "\u001b[0;31mModuleNotFoundError\u001b[0m: No module named 'tensorflow'"
     ]
    }
   ],
   "source": [
    "import os\n",
    "import random\n",
    "import numpy as np\n",
    "import tensorflow as tf\n",
    "import matplotlib as plt"
   ]
  },
  {
   "cell_type": "code",
   "execution_count": 61,
   "metadata": {},
   "outputs": [],
   "source": [
    "# Image Processing Libraries\n",
    "from tqdm import tqdm  # to show processing bar\n",
    "from skimage.io import imread, imshow\n",
    "from skimage.transform import resize"
   ]
  },
  {
   "cell_type": "code",
   "execution_count": 39,
   "metadata": {},
   "outputs": [],
   "source": [
    "''' Standard Size of Images '''\n",
    "img_width = 128 \n",
    "img_hight = 128\n",
    "img_channels = 3\n",
    "# adjust randome seed size\n",
    "seed = 42\n",
    "np.random.seed = seed"
   ]
  },
  {
   "cell_type": "markdown",
   "metadata": {},
   "source": [
    "##  Data Preprocessing"
   ]
  },
  {
   "cell_type": "markdown",
   "metadata": {},
   "source": [
    "Resizing Training Images"
   ]
  },
  {
   "cell_type": "code",
   "execution_count": 7,
   "metadata": {},
   "outputs": [
    {
     "name": "stderr",
     "output_type": "stream",
     "text": [
      "\r",
      "  0%|          | 0/400 [00:00<?, ?it/s]"
     ]
    },
    {
     "name": "stdout",
     "output_type": "stream",
     "text": [
      "Resizing Training Images and Masks\n"
     ]
    },
    {
     "name": "stderr",
     "output_type": "stream",
     "text": [
      "100%|██████████| 400/400 [13:57<00:00,  2.09s/it]\n"
     ]
    }
   ],
   "source": [
    "'''  \n",
    "Data Preprocessing\n",
    "''' \n",
    "train_path = 'fundus/'\n",
    "test_path = 'Validation/'\n",
    "train_ids = next(os.walk(train_path))[2]#next return a tuple(all folders at 1 position\n",
    "# test_ids = next(os.walk(test_path))[2]\n",
    "# print(len(train_ids))\n",
    "# print(len(test_ids))\n",
    "X_train = np.zeros((len(train_ids),img_hight, img_width, img_channels), dtype=np.uint8)\n",
    "# X_train.shape\n",
    "Y_train = np.zeros((len(train_ids),img_hight, img_width, 1), dtype=np.bool) # for Masks\n",
    "# Y_train.shape\n",
    "#\n",
    "\"\"\" Resizing Training Images  \"\"\"\n",
    "#\n",
    "masks_path = next(os.walk('Atrophy/'))[2]\n",
    "# print(masks_path)\n",
    "training_ids = sorted(train_ids)\n",
    "masks_ids = sorted(masks_path)\n",
    "indx = 0\n",
    "print('Resizing Training Images and Masks')\n",
    "for img_id in tqdm(training_ids):\n",
    "    image = imread(train_path+img_id)[:,:,:img_channels]\n",
    "    image = resize(image, (img_hight, img_width), mode='constant', preserve_range= True)\n",
    "    X_train[indx] = image # fill empty X_train with values from images\n",
    "    mask = np.zeros((img_hight, img_width, 1), dtype=np.bool)\n",
    "#     for mask_file in next(os.walk(path+'/masks/'))[2]:\n",
    "    test_mask = imread('Atrophy/'+masks_ids[indx])\n",
    "    test_mask = np.expand_dims(resize(test_mask,(img_hight, img_width), mode='constant', preserve_range=True), axis=-1)#\n",
    "#     mask = np.maximum(mask, test_mask)\n",
    "    Y_train[indx] = test_mask\n",
    "    indx += 1 \n",
    "\n"
   ]
  },
  {
   "cell_type": "code",
   "execution_count": 54,
   "metadata": {},
   "outputs": [],
   "source": [
    "test_path = next(os.walk('Validation/'))[2]\n",
    "test_ids = sorted(test_path)\n",
    "# print(test_ids)"
   ]
  },
  {
   "cell_type": "markdown",
   "metadata": {},
   "source": [
    "Resizing Test Images"
   ]
  },
  {
   "cell_type": "code",
   "execution_count": 70,
   "metadata": {},
   "outputs": [
    {
     "name": "stderr",
     "output_type": "stream",
     "text": [
      "\r",
      "  0%|          | 0/400 [00:00<?, ?it/s]"
     ]
    },
    {
     "name": "stdout",
     "output_type": "stream",
     "text": [
      "Resizing Test Images...\n"
     ]
    },
    {
     "name": "stderr",
     "output_type": "stream",
     "text": [
      "100%|██████████| 400/400 [11:04<00:00,  1.66s/it]"
     ]
    },
    {
     "name": "stdout",
     "output_type": "stream",
     "text": [
      "Resizing Done!!!\n"
     ]
    },
    {
     "name": "stderr",
     "output_type": "stream",
     "text": [
      "\n"
     ]
    }
   ],
   "source": [
    "X_test = np.zeros((len(test_ids),img_hight, img_width, img_channels), dtype=np.uint8)\n",
    "# X_test.shape\n",
    "sizes_test = []\n",
    "print('Resizing Test Images...')\n",
    "for n, id_ in tqdm(enumerate(test_ids), total=len(test_ids)):\n",
    "    path =  'Validation/' + id_\n",
    "    image = imread(path)[:,:,:img_channels]\n",
    "    sizes_test.append([image.shape[0], image.shape[1]])\n",
    "    image1 = resize(image, (img_hight, img_width), mode='constant', preserve_range=True)\n",
    "    X_test[n] = image1\n",
    "print('Resizing Done!!!')"
   ]
  },
  {
   "cell_type": "code",
   "execution_count": 66,
   "metadata": {},
   "outputs": [
    {
     "data": {
      "image/png": "[encoded data removed]",
      "text/plain": [
       "<Figure size 432x288 with 1 Axes>"
      ]
     },
     "metadata": {
      "needs_background": "light"
     },
     "output_type": "display_data"
    }
   ],
   "source": [
    "imshow(X_test[15]) # showing image\n",
    "plt.show()"
   ]
  },
  {
   "cell_type": "code",
   "execution_count": 11,
   "metadata": {},
   "outputs": [
    {
     "name": "stdout",
     "output_type": "stream",
     "text": [
      "Populating the interactive namespace from numpy and matplotlib\n"
     ]
    },
    {
     "name": "stderr",
     "output_type": "stream",
     "text": [
      "/home/zawster/.local/lib/python3.6/site-packages/IPython/core/magics/pylab.py:160: UserWarning: pylab import has clobbered these variables: ['resize', 'imshow', 'plt', 'random', 'imread']\n",
      "`%matplotlib` prevents importing * from pylab and numpy\n",
      "  \"\\n`%matplotlib` prevents importing * from pylab and numpy\"\n"
     ]
    }
   ],
   "source": [
    "%pylab inline"
   ]
  },
  {
   "cell_type": "code",
   "execution_count": 20,
   "metadata": {},
   "outputs": [
    {
     "data": {
      "image/png": "[encoded data removed]",
      "text/plain": [
       "<Figure size 432x288 with 1 Axes>"
      ]
     },
     "metadata": {
      "needs_background": "light"
     },
     "output_type": "display_data"
    },
    {
     "data": {
      "image/png": "[encoded data removed]",
      "text/plain": [
       "<Figure size 432x288 with 1 Axes>"
      ]
     },
     "metadata": {
      "needs_background": "light"
     },
     "output_type": "display_data"
    }
   ],
   "source": [
    "# Ploting Some Random Images\n",
    "# image_x = 658\n",
    "image_x = random.randint(0, len(train_ids))\n",
    "imshow(X_train[image_x]) # showing image\n",
    "plt.show()\n",
    "imshow(np.squeeze(Y_train[image_x])) # show coresponding mask\n",
    "plt.show()\n"
   ]
  },
  {
   "cell_type": "code",
   "execution_count": 26,
   "metadata": {},
   "outputs": [
    {
     "name": "stdout",
     "output_type": "stream",
     "text": [
      "P0194.jpg\n"
     ]
    }
   ],
   "source": [
    "print(train_ids[image_x])"
   ]
  },
  {
   "cell_type": "markdown",
   "metadata": {},
   "source": [
    "Build the Model (Creating Neural Network)"
   ]
  },
  {
   "cell_type": "code",
   "execution_count": 27,
   "metadata": {},
   "outputs": [],
   "source": [
    "# Build the Model\n",
    "inputs = tf.keras.layers.Input((img_width, img_hight, img_channels)) # Input Layer\n",
    "float_Values = tf.keras.layers.Lambda(lambda x: x / 255)(inputs) # converting each value into flot for Neural Network\n",
    "# Contraction path (going down)\n",
    "c1 = tf.keras.layers.Conv2D(16, (3,3), activation='relu', kernel_initializer='he_normal', padding='same')(float_Values)\n",
    "c1 = tf.keras.layers.Dropout(0.1)(c1) # dropout of 10%\n",
    "c1 = tf.keras.layers.Conv2D(16, (3,3), activation='relu', kernel_initializer='he_normal', padding='same')(c1) # creating new Layer\n",
    "p1 = tf.keras.layers.MaxPooling2D((2,2))(c1)  # MaxPolling layer\n",
    "\n",
    "c2 = tf.keras.layers.Conv2D(32,(3,3), activation='relu', kernel_initializer='he_normal', padding='same')(p1)\n",
    "c2 = tf.keras.layers.Dropout(0.1)(c2)\n",
    "c2 = tf.keras.layers.Conv2D(32, (3,3), activation='relu', kernel_initializer='he_normal', padding='same')(c2)\n",
    "p2 = tf.keras.layers.MaxPooling2D((2,2))(c2)\n",
    "\n",
    "c3 = tf.keras.layers.Conv2D(64,(3,3), activation='relu', kernel_initializer='he_normal', padding='same')(p2)\n",
    "c3 = tf.keras.layers.Dropout(0.2)(c3)\n",
    "c3 = tf.keras.layers.Conv2D(64,(3,3), activation='relu', kernel_initializer='he_normal', padding='same')(c3)\n",
    "p3 = tf.keras.layers.MaxPooling2D((2,2))(c3)\n",
    "\n",
    "c4 = tf.keras.layers.Conv2D(128, (3,3), activation='relu', kernel_initializer='he_normal', padding='same')(p3)\n",
    "c4 = tf.keras.layers.Dropout((0.2))(c4)\n",
    "c4 = tf.keras.layers.Conv2D(128, (3,3), activation='relu', kernel_initializer='he_normal', padding='same')(c4)\n",
    "p4 = tf.keras.layers.MaxPooling2D((2,2))(c4)\n",
    "\n",
    "c5 = tf.keras.layers.Conv2D(256, (3,3), activation='relu', kernel_initializer='he_normal', padding='same')(p4)\n",
    "c5 = tf.keras.layers.Dropout(0.3)(c5)\n",
    "c5 = tf.keras.layers.Conv2D(256, (3,3), activation='relu', kernel_initializer='he_normal', padding='same')(c5)\n",
    "p5 = tf.keras.layers.MaxPooling2D((2,2))(c5)"
   ]
  },
  {
   "cell_type": "markdown",
   "metadata": {},
   "source": [
    "Up Scallig"
   ]
  },
  {
   "cell_type": "code",
   "execution_count": 28,
   "metadata": {},
   "outputs": [
    {
     "name": "stdout",
     "output_type": "stream",
     "text": [
      "WARNING:tensorflow:From /home/zawster/.local/lib/python3.6/site-packages/tensorflow/python/ops/init_ops.py:1251: calling VarianceScaling.__init__ (from tensorflow.python.ops.init_ops) with dtype is deprecated and will be removed in a future version.\n",
      "Instructions for updating:\n",
      "Call initializer instance with the dtype argument instead of passing it to the constructor\n"
     ]
    }
   ],
   "source": [
    "#Expensive Path (Up Scalling)\n",
    "u6 = tf.keras.layers.Conv2DTranspose(128, (2,2), strides=(2,2), padding='same')(c5)\n",
    "u6 = tf.keras.layers.concatenate([u6, c4])\n",
    "c6 = tf.keras.layers.Conv2D(128, (3,3), activation='relu', kernel_initializer='he_normal', padding='same')(u6)##\n",
    "c6 = tf.keras.layers.Dropout(0.2)(c6)\n",
    "c6 = tf.keras.layers.Conv2D(128, (3,3), activation='relu', kernel_initializer='he_normal', padding='same')(c6)\n",
    "\n",
    "u7 = tf.keras.layers.Conv2DTranspose(64, (2,2), strides=(2,2), padding='same')(c6)\n",
    "u7 = tf.keras.layers.concatenate([u7, c3])\n",
    "c7 = tf.keras.layers.Conv2D(64, (3,3), activation='relu', kernel_initializer='he_normal', padding='same')(u7)##\n",
    "c7 = tf.keras.layers.Dropout(0.2)(c7)\n",
    "c7 = tf.keras.layers.Conv2D(64, (3,3), activation='relu', kernel_initializer='he_normal', padding='same')(c7)\n",
    "\n",
    "u8 = tf.keras.layers.Conv2DTranspose(32, (2,2), strides=(2,2), padding='same')(c7)\n",
    "u8 = tf.keras.layers.concatenate([u8, c2])\n",
    "c8 = tf.keras.layers.Conv2D(32, (3,3), activation='relu', kernel_initializer='he_normal', padding='same')(u8)\n",
    "c8 = tf.keras.layers.Dropout(0.1)(c8)\n",
    "c8 = tf.keras.layers.Conv2D(32, (3,3), activation='relu', kernel_initializer='he_normal', padding='same')(c8)\n",
    "\n",
    "u9 = tf.keras.layers.Conv2DTranspose(16, (2,2), strides=(2,2), padding='same')(c8)\n",
    "u9 = tf.keras.layers.concatenate([u9, c1])\n",
    "c9 = tf.keras.layers.Conv2D(16, (2,2), activation='relu', kernel_initializer='he_normal', padding='same')(u9)\n",
    "c9 = tf.keras.layers.Dropout(0.1)(c9)\n",
    "c9 = tf.keras.layers.Conv2D(16, (2,2), activation='relu', kernel_initializer='he_normal', padding='same')(c9)\n",
    "# Output layer\n",
    "outputs = tf.keras.layers.Conv2D(1,(1,1), activation='sigmoid')(c9)"
   ]
  },
  {
   "cell_type": "markdown",
   "metadata": {},
   "source": [
    "Compiling Model"
   ]
  },
  {
   "cell_type": "code",
   "execution_count": 29,
   "metadata": {},
   "outputs": [
    {
     "name": "stdout",
     "output_type": "stream",
     "text": [
      "WARNING:tensorflow:From /home/zawster/.local/lib/python3.6/site-packages/tensorflow/python/ops/nn_impl.py:180: add_dispatch_support.<locals>.wrapper (from tensorflow.python.ops.array_ops) is deprecated and will be removed in a future version.\n",
      "Instructions for updating:\n",
      "Use tf.where in 2.0, which has the same broadcast rule as np.where\n"
     ]
    }
   ],
   "source": [
    "# Compiling Model\n",
    "model = tf.keras.Model(inputs=[inputs], outputs=[outputs])\n",
    "model.compile(optimizer='adam', loss='binary_crossentropy')#, matrices=['accuracy'])  #optimize contais  Back propagation"
   ]
  },
  {
   "cell_type": "markdown",
   "metadata": {},
   "source": [
    "Model Summary"
   ]
  },
  {
   "cell_type": "code",
   "execution_count": 30,
   "metadata": {},
   "outputs": [
    {
     "name": "stdout",
     "output_type": "stream",
     "text": [
      "Model: \"model\"\n",
      "__________________________________________________________________________________________________\n",
      "Layer (type)                    Output Shape         Param #     Connected to                     \n",
      "==================================================================================================\n",
      "input_1 (InputLayer)            [(None, 128, 128, 3) 0                                            \n",
      "__________________________________________________________________________________________________\n",
      "lambda (Lambda)                 (None, 128, 128, 3)  0           input_1[0][0]                    \n",
      "__________________________________________________________________________________________________\n",
      "conv2d (Conv2D)                 (None, 128, 128, 16) 448         lambda[0][0]                     \n",
      "__________________________________________________________________________________________________\n",
      "dropout (Dropout)               (None, 128, 128, 16) 0           conv2d[0][0]                     \n",
      "__________________________________________________________________________________________________\n",
      "conv2d_1 (Conv2D)               (None, 128, 128, 16) 2320        dropout[0][0]                    \n",
      "__________________________________________________________________________________________________\n",
      "max_pooling2d (MaxPooling2D)    (None, 64, 64, 16)   0           conv2d_1[0][0]                   \n",
      "__________________________________________________________________________________________________\n",
      "conv2d_2 (Conv2D)               (None, 64, 64, 32)   4640        max_pooling2d[0][0]              \n",
      "__________________________________________________________________________________________________\n",
      "dropout_1 (Dropout)             (None, 64, 64, 32)   0           conv2d_2[0][0]                   \n",
      "__________________________________________________________________________________________________\n",
      "conv2d_3 (Conv2D)               (None, 64, 64, 32)   9248        dropout_1[0][0]                  \n",
      "__________________________________________________________________________________________________\n",
      "max_pooling2d_1 (MaxPooling2D)  (None, 32, 32, 32)   0           conv2d_3[0][0]                   \n",
      "__________________________________________________________________________________________________\n",
      "conv2d_4 (Conv2D)               (None, 32, 32, 64)   18496       max_pooling2d_1[0][0]            \n",
      "__________________________________________________________________________________________________\n",
      "dropout_2 (Dropout)             (None, 32, 32, 64)   0           conv2d_4[0][0]                   \n",
      "__________________________________________________________________________________________________\n",
      "conv2d_5 (Conv2D)               (None, 32, 32, 64)   36928       dropout_2[0][0]                  \n",
      "__________________________________________________________________________________________________\n",
      "max_pooling2d_2 (MaxPooling2D)  (None, 16, 16, 64)   0           conv2d_5[0][0]                   \n",
      "__________________________________________________________________________________________________\n",
      "conv2d_6 (Conv2D)               (None, 16, 16, 128)  73856       max_pooling2d_2[0][0]            \n",
      "__________________________________________________________________________________________________\n",
      "dropout_3 (Dropout)             (None, 16, 16, 128)  0           conv2d_6[0][0]                   \n",
      "__________________________________________________________________________________________________\n",
      "conv2d_7 (Conv2D)               (None, 16, 16, 128)  147584      dropout_3[0][0]                  \n",
      "__________________________________________________________________________________________________\n",
      "max_pooling2d_3 (MaxPooling2D)  (None, 8, 8, 128)    0           conv2d_7[0][0]                   \n",
      "__________________________________________________________________________________________________\n",
      "conv2d_8 (Conv2D)               (None, 8, 8, 256)    295168      max_pooling2d_3[0][0]            \n",
      "__________________________________________________________________________________________________\n",
      "dropout_4 (Dropout)             (None, 8, 8, 256)    0           conv2d_8[0][0]                   \n",
      "__________________________________________________________________________________________________\n",
      "conv2d_9 (Conv2D)               (None, 8, 8, 256)    590080      dropout_4[0][0]                  \n",
      "__________________________________________________________________________________________________\n",
      "conv2d_transpose (Conv2DTranspo (None, 16, 16, 128)  131200      conv2d_9[0][0]                   \n",
      "__________________________________________________________________________________________________\n",
      "concatenate (Concatenate)       (None, 16, 16, 256)  0           conv2d_transpose[0][0]           \n",
      "                                                                 conv2d_7[0][0]                   \n",
      "__________________________________________________________________________________________________\n",
      "conv2d_10 (Conv2D)              (None, 16, 16, 128)  295040      concatenate[0][0]                \n",
      "__________________________________________________________________________________________________\n",
      "dropout_5 (Dropout)             (None, 16, 16, 128)  0           conv2d_10[0][0]                  \n",
      "__________________________________________________________________________________________________\n",
      "conv2d_11 (Conv2D)              (None, 16, 16, 128)  147584      dropout_5[0][0]                  \n",
      "__________________________________________________________________________________________________\n",
      "conv2d_transpose_1 (Conv2DTrans (None, 32, 32, 64)   32832       conv2d_11[0][0]                  \n",
      "__________________________________________________________________________________________________\n",
      "concatenate_1 (Concatenate)     (None, 32, 32, 128)  0           conv2d_transpose_1[0][0]         \n",
      "                                                                 conv2d_5[0][0]                   \n",
      "__________________________________________________________________________________________________\n",
      "conv2d_12 (Conv2D)              (None, 32, 32, 64)   73792       concatenate_1[0][0]              \n",
      "__________________________________________________________________________________________________\n",
      "dropout_6 (Dropout)             (None, 32, 32, 64)   0           conv2d_12[0][0]                  \n",
      "__________________________________________________________________________________________________\n",
      "conv2d_13 (Conv2D)              (None, 32, 32, 64)   36928       dropout_6[0][0]                  \n",
      "__________________________________________________________________________________________________\n",
      "conv2d_transpose_2 (Conv2DTrans (None, 64, 64, 32)   8224        conv2d_13[0][0]                  \n",
      "__________________________________________________________________________________________________\n",
      "concatenate_2 (Concatenate)     (None, 64, 64, 64)   0           conv2d_transpose_2[0][0]         \n",
      "                                                                 conv2d_3[0][0]                   \n",
      "__________________________________________________________________________________________________\n",
      "conv2d_14 (Conv2D)              (None, 64, 64, 32)   18464       concatenate_2[0][0]              \n",
      "__________________________________________________________________________________________________\n",
      "dropout_7 (Dropout)             (None, 64, 64, 32)   0           conv2d_14[0][0]                  \n",
      "__________________________________________________________________________________________________\n",
      "conv2d_15 (Conv2D)              (None, 64, 64, 32)   9248        dropout_7[0][0]                  \n",
      "__________________________________________________________________________________________________\n",
      "conv2d_transpose_3 (Conv2DTrans (None, 128, 128, 16) 2064        conv2d_15[0][0]                  \n",
      "__________________________________________________________________________________________________\n",
      "concatenate_3 (Concatenate)     (None, 128, 128, 32) 0           conv2d_transpose_3[0][0]         \n",
      "                                                                 conv2d_1[0][0]                   \n",
      "__________________________________________________________________________________________________\n",
      "conv2d_16 (Conv2D)              (None, 128, 128, 16) 2064        concatenate_3[0][0]              \n",
      "__________________________________________________________________________________________________\n",
      "dropout_8 (Dropout)             (None, 128, 128, 16) 0           conv2d_16[0][0]                  \n",
      "__________________________________________________________________________________________________\n",
      "conv2d_17 (Conv2D)              (None, 128, 128, 16) 1040        dropout_8[0][0]                  \n",
      "__________________________________________________________________________________________________\n",
      "conv2d_18 (Conv2D)              (None, 128, 128, 1)  17          conv2d_17[0][0]                  \n",
      "==================================================================================================\n",
      "Total params: 1,937,265\n",
      "Trainable params: 1,937,265\n",
      "Non-trainable params: 0\n",
      "__________________________________________________________________________________________________\n"
     ]
    }
   ],
   "source": [
    "model.summary()"
   ]
  },
  {
   "cell_type": "markdown",
   "metadata": {},
   "source": [
    "ModelCheckpoints and Callbacks"
   ]
  },
  {
   "cell_type": "code",
   "execution_count": 32,
   "metadata": {},
   "outputs": [
    {
     "data": {
      "text/plain": [
       "'  \\ntensorboard --logdir=logs/ --host localhost --port 8088\\n'"
      ]
     },
     "execution_count": 32,
     "metadata": {},
     "output_type": "execute_result"
    }
   ],
   "source": [
    "# ModelCheckpoints\n",
    "checkPointer = tf.keras.callbacks.ModelCheckpoint('model_for_nuclei.h5', verbose=1, save_best_only=True)\n",
    "callbacks = [\n",
    "    tf.keras.callbacks.EarlyStopping(patience=5, monitor='val_loss'),\n",
    "    tf.keras.callbacks.TensorBoard(log_dir='logs'),\n",
    "    checkPointer\n",
    "]\n",
    "''' Following Command is used to Open Tensorboard into Browser'''\n",
    "\"\"\"  \n",
    "tensorboard --logdir=logs/ --host localhost --port 8088\n",
    "\"\"\"\n"
   ]
  },
  {
   "cell_type": "markdown",
   "metadata": {},
   "source": [
    "Fitting the Model "
   ]
  },
  {
   "cell_type": "code",
   "execution_count": 33,
   "metadata": {},
   "outputs": [
    {
     "name": "stdout",
     "output_type": "stream",
     "text": [
      "Train on 360 samples, validate on 40 samples\n",
      "Epoch 1/25\n",
      "352/360 [============================>.] - ETA: 2s - loss: 0.1737\n",
      "Epoch 00001: val_loss improved from inf to 0.11035, saving model to model_for_nuclei.h5\n",
      "360/360 [==============================] - 100s 277ms/sample - loss: 0.1711 - val_loss: 0.1104\n",
      "Epoch 2/25\n",
      "352/360 [============================>.] - ETA: 2s - loss: 0.0468\n",
      "Epoch 00002: val_loss improved from 0.11035 to 0.10352, saving model to model_for_nuclei.h5\n",
      "360/360 [==============================] - 109s 301ms/sample - loss: 0.0470 - val_loss: 0.1035\n",
      "Epoch 3/25\n",
      "352/360 [============================>.] - ETA: 2s - loss: 0.0358\n",
      "Epoch 00003: val_loss improved from 0.10352 to 0.05272, saving model to model_for_nuclei.h5\n",
      "360/360 [==============================] - 112s 311ms/sample - loss: 0.0355 - val_loss: 0.0527\n",
      "Epoch 4/25\n",
      "352/360 [============================>.] - ETA: 2s - loss: 0.0284\n",
      "Epoch 00004: val_loss did not improve from 0.05272\n",
      "360/360 [==============================] - 111s 308ms/sample - loss: 0.0282 - val_loss: 0.0600\n",
      "Epoch 5/25\n",
      "352/360 [============================>.] - ETA: 2s - loss: 0.0243\n",
      "Epoch 00005: val_loss improved from 0.05272 to 0.03247, saving model to model_for_nuclei.h5\n",
      "360/360 [==============================] - 114s 315ms/sample - loss: 0.0245 - val_loss: 0.0325\n",
      "Epoch 6/25\n",
      "352/360 [============================>.] - ETA: 2s - loss: 0.0214\n",
      "Epoch 00006: val_loss improved from 0.03247 to 0.02589, saving model to model_for_nuclei.h5\n",
      "360/360 [==============================] - 105s 292ms/sample - loss: 0.0215 - val_loss: 0.0259\n",
      "Epoch 7/25\n",
      "352/360 [============================>.] - ETA: 1s - loss: 0.0199\n",
      "Epoch 00007: val_loss improved from 0.02589 to 0.01808, saving model to model_for_nuclei.h5\n",
      "360/360 [==============================] - 80s 222ms/sample - loss: 0.0197 - val_loss: 0.0181\n",
      "Epoch 8/25\n",
      "352/360 [============================>.] - ETA: 1s - loss: 0.0162\n",
      "Epoch 00008: val_loss did not improve from 0.01808\n",
      "360/360 [==============================] - 79s 220ms/sample - loss: 0.0161 - val_loss: 0.0182\n",
      "Epoch 9/25\n",
      "352/360 [============================>.] - ETA: 2s - loss: 0.0140\n",
      "Epoch 00009: val_loss did not improve from 0.01808\n",
      "360/360 [==============================] - 95s 264ms/sample - loss: 0.0140 - val_loss: 0.0198\n",
      "Epoch 10/25\n",
      "352/360 [============================>.] - ETA: 2s - loss: 0.0130\n",
      "Epoch 00010: val_loss improved from 0.01808 to 0.01602, saving model to model_for_nuclei.h5\n",
      "360/360 [==============================] - 114s 317ms/sample - loss: 0.0130 - val_loss: 0.0160\n",
      "Epoch 11/25\n",
      "352/360 [============================>.] - ETA: 2s - loss: 0.0116\n",
      "Epoch 00011: val_loss improved from 0.01602 to 0.01596, saving model to model_for_nuclei.h5\n",
      "360/360 [==============================] - 114s 317ms/sample - loss: 0.0116 - val_loss: 0.0160\n",
      "Epoch 12/25\n",
      "352/360 [============================>.] - ETA: 2s - loss: 0.0099\n",
      "Epoch 00012: val_loss improved from 0.01596 to 0.01495, saving model to model_for_nuclei.h5\n",
      "360/360 [==============================] - 114s 318ms/sample - loss: 0.0103 - val_loss: 0.0150\n",
      "Epoch 13/25\n",
      "352/360 [============================>.] - ETA: 1s - loss: 0.0102\n",
      "Epoch 00013: val_loss improved from 0.01495 to 0.01279, saving model to model_for_nuclei.h5\n",
      "360/360 [==============================] - 81s 225ms/sample - loss: 0.0101 - val_loss: 0.0128\n",
      "Epoch 14/25\n",
      "352/360 [============================>.] - ETA: 1s - loss: 0.0101\n",
      "Epoch 00014: val_loss did not improve from 0.01279\n",
      "360/360 [==============================] - 80s 222ms/sample - loss: 0.0101 - val_loss: 0.0132\n",
      "Epoch 15/25\n",
      "352/360 [============================>.] - ETA: 1s - loss: 0.0094\n",
      "Epoch 00015: val_loss improved from 0.01279 to 0.01191, saving model to model_for_nuclei.h5\n",
      "360/360 [==============================] - 80s 222ms/sample - loss: 0.0094 - val_loss: 0.0119\n",
      "Epoch 16/25\n",
      "352/360 [============================>.] - ETA: 1s - loss: 0.0087\n",
      "Epoch 00016: val_loss improved from 0.01191 to 0.01122, saving model to model_for_nuclei.h5\n",
      "360/360 [==============================] - 80s 221ms/sample - loss: 0.0087 - val_loss: 0.0112\n",
      "Epoch 17/25\n",
      "352/360 [============================>.] - ETA: 1s - loss: 0.0084\n",
      "Epoch 00017: val_loss did not improve from 0.01122\n",
      "360/360 [==============================] - 79s 220ms/sample - loss: 0.0084 - val_loss: 0.0114\n",
      "Epoch 18/25\n",
      "352/360 [============================>.] - ETA: 1s - loss: 0.0073\n",
      "Epoch 00018: val_loss improved from 0.01122 to 0.01047, saving model to model_for_nuclei.h5\n",
      "360/360 [==============================] - 80s 222ms/sample - loss: 0.0074 - val_loss: 0.0105\n",
      "Epoch 19/25\n",
      "352/360 [============================>.] - ETA: 1s - loss: 0.0079\n",
      "Epoch 00019: val_loss did not improve from 0.01047\n",
      "360/360 [==============================] - 79s 220ms/sample - loss: 0.0079 - val_loss: 0.0135\n",
      "Epoch 20/25\n",
      "352/360 [============================>.] - ETA: 1s - loss: 0.0082\n",
      "Epoch 00020: val_loss did not improve from 0.01047\n",
      "360/360 [==============================] - 82s 227ms/sample - loss: 0.0081 - val_loss: 0.0122\n",
      "Epoch 21/25\n",
      "352/360 [============================>.] - ETA: 1s - loss: 0.0082\n",
      "Epoch 00021: val_loss did not improve from 0.01047\n",
      "360/360 [==============================] - 79s 220ms/sample - loss: 0.0082 - val_loss: 0.0119\n",
      "Epoch 22/25\n",
      "352/360 [============================>.] - ETA: 1s - loss: 0.0072\n",
      "Epoch 00022: val_loss improved from 0.01047 to 0.00960, saving model to model_for_nuclei.h5\n",
      "360/360 [==============================] - 80s 221ms/sample - loss: 0.0072 - val_loss: 0.0096\n",
      "Epoch 23/25\n",
      "352/360 [============================>.] - ETA: 1s - loss: 0.0069\n",
      "Epoch 00023: val_loss did not improve from 0.00960\n",
      "360/360 [==============================] - 80s 222ms/sample - loss: 0.0069 - val_loss: 0.0100\n",
      "Epoch 24/25\n",
      "352/360 [============================>.] - ETA: 1s - loss: 0.0063\n",
      "Epoch 00024: val_loss did not improve from 0.00960\n",
      "360/360 [==============================] - 79s 220ms/sample - loss: 0.0063 - val_loss: 0.0106\n",
      "Epoch 25/25\n",
      "352/360 [============================>.] - ETA: 1s - loss: 0.0066\n",
      "Epoch 00025: val_loss did not improve from 0.00960\n",
      "360/360 [==============================] - 79s 221ms/sample - loss: 0.0066 - val_loss: 0.0114\n"
     ]
    }
   ],
   "source": [
    "results = model.fit(X_train, Y_train, validation_split=0.1, batch_size=16, epochs=25, callbacks=callbacks)#"
   ]
  },
  {
   "cell_type": "markdown",
   "metadata": {},
   "source": [
    "#### Validation (Testing)"
   ]
  },
  {
   "cell_type": "code",
   "execution_count": 73,
   "metadata": {},
   "outputs": [
    {
     "name": "stdout",
     "output_type": "stream",
     "text": [
      "360/360 [==============================] - 22s 62ms/sample\n"
     ]
    }
   ],
   "source": [
    "idx = random.randint(0, len(X_train))\n",
    "\n",
    "# preds_train = model.predict(X_train[:int(X_train.shape[0]*0.9)], verbose=1)\n",
    "# preds_val = model.predict(X_train[int(X_train.shape[0]*0.9):], verbose=1)\n",
    "# preds_test = model.predict(X_test, verbose=1)\n",
    "predected_valid = model.predict(X_test[:int(X_test.shape[0]*0.9)], verbose=1)\n",
    "preds_valid_t = (predected_valid > 0.5).astype(np.uint8)\n",
    "# preds_val_t = (preds_val > 0.5).astype(np.uint8)\n",
    "# preds_test_t = (preds_test > 0.5).astype(np.uint8)\n"
   ]
  },
  {
   "cell_type": "code",
   "execution_count": 118,
   "metadata": {},
   "outputs": [
    {
     "name": "stdout",
     "output_type": "stream",
     "text": [
      "Actual Fundus Image:\n"
     ]
    },
    {
     "data": {
      "image/png": "[encoded data removed]",
      "text/plain": [
       "<Figure size 432x288 with 1 Axes>"
      ]
     },
     "metadata": {
      "needs_background": "light"
     },
     "output_type": "display_data"
    },
    {
     "name": "stdout",
     "output_type": "stream",
     "text": [
      "Predicted Optic Disk:\n"
     ]
    },
    {
     "data": {
      "image/png": "[encoded data removed]",
      "text/plain": [
       "<Figure size 432x288 with 2 Axes>"
      ]
     },
     "metadata": {
      "needs_background": "light"
     },
     "output_type": "display_data"
    }
   ],
   "source": [
    "# perform a sanity check on some random training samples\n",
    "ix = random.randint(0, len(preds_valid_t))\n",
    "print('Actual Fundus Image:')\n",
    "imshow(X_test[ix])\n",
    "plt.show()\n",
    "print('Predicted Optic Disk:')\n",
    "imshow(np.squeeze(preds_valid_t[ix]))\n",
    "plt.show()"
   ]
  },
  {
   "cell_type": "code",
   "execution_count": null,
   "metadata": {},
   "outputs": [],
   "source": []
  },
  {
   "cell_type": "code",
   "execution_count": null,
   "metadata": {},
   "outputs": [],
   "source": []
  },
  {
   "cell_type": "code",
   "execution_count": null,
   "metadata": {},
   "outputs": [],
   "source": []
  },
  {
   "cell_type": "code",
   "execution_count": null,
   "metadata": {},
   "outputs": [],
   "source": []
  }
 ],
 "metadata": {
  "kernelspec": {
   "display_name": "Python 3",
   "language": "python",
   "name": "python3"
  },
  "language_info": {
   "codemirror_mode": {
    "name": "ipython",
    "version": 3
   },
   "file_extension": ".py",
   "mimetype": "text/x-python",
   "name": "python",
   "nbconvert_exporter": "python",
   "pygments_lexer": "ipython3",
   "version": "3.7.5"
  }
 },
 "nbformat": 4,
 "nbformat_minor": 4
}
