{
 "cells": [
  {
   "cell_type": "code",
   "execution_count": null,
   "metadata": {},
   "outputs": [],
   "source": [
    "import pandas as pd\n",
    "from sklearn import model_selection\n",
    "from sklearn import svm\n",
    "\n",
    "# Read dataset into pandas dataframe\n",
    "df = pd.read_csv('ORBFeatures.csv',names=['Blobs_sum', 'Average_Distance', '# of blobs', 'Average_Area', 'class'])\n",
    "features = ['Blobs_sum', 'Average_Distance', '# of blobs', 'Average_Area',]\n",
    "\n",
    "# Extract features\n",
    "X = df.loc[:, features].values\n",
    "\n",
    "# Extract target i.e. iris species\n",
    "Y = df.loc[:, ['class']].values\n",
    "\n",
    "# Now using scikit-learn model_selection module, split the iris data into train/test data sets\n",
    "\n",
    "# keeping 40% reserved for testing purpose and 60% data will be used to train and form model.\n",
    "X_train, X_test, Y_train, Y_test = model_selection.train_test_split (X, Y, test_size=0.4, random_state=1)\n",
    "\n",
    "# Build an SVC (Support Vector Classification) model using linear regression\n",
    "clf_ob = svm.SVC(kernel='linear', gamma=0.001, C=0.99).fit(X_train, Y_train)\n",
    "y_pred = clf_ob.predict(X_test)\n",
    "#print(y_pred)\n",
    "from sklearn.metrics import classification_report, confusion_matrix\n",
    "#print(confusion_matrix(Y_test,y_pred))\n",
    "print(classification_report(Y_test,y_pred))\n",
    "#print(clf_ob.score(X_test, Y_test))\n",
    "# Further, let’s now validate robustness of above model using K-Fold Cross validation technique\n",
    "\n",
    "# We give cross_val_score a model, the entire iris data set and its real values, and the number of folds:\n",
    "\n",
    "scores_res = model_selection.cross_val_score(clf_ob, X, Y, cv=10)\n",
    "\n",
    "# Print the accuracy of each fold (i.e. 5 as above we asked cv 5)\n",
    "#print(scores_res)\n",
    "\n",
    "# And the mean accuracy of all 5 folds.\n",
    "#print(scores_res.mean())"
   ]
  }
 ],
 "metadata": {
  "kernelspec": {
   "display_name": "Python 3",
   "language": "python",
   "name": "python3"
  },
  "language_info": {
   "codemirror_mode": {
    "name": "ipython",
    "version": 3
   },
   "file_extension": ".py",
   "mimetype": "text/x-python",
   "name": "python",
   "nbconvert_exporter": "python",
   "pygments_lexer": "ipython3",
   "version": "3.7.5"
  }
 },
 "nbformat": 4,
 "nbformat_minor": 4
}
