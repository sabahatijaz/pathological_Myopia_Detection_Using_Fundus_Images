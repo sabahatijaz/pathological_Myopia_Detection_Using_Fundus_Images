{
 "cells": [
  {
   "cell_type": "code",
   "execution_count": 1,
   "metadata": {},
   "outputs": [],
   "source": [
    "import cv2\n",
    "import matplotlib as plt\n",
    "import os"
   ]
  },
  {
   "cell_type": "code",
   "execution_count": 2,
   "metadata": {},
   "outputs": [
    {
     "name": "stdout",
     "output_type": "stream",
     "text": [
      "['H0001.jpg', 'H0002.jpg', 'H0003.jpg', 'H0004.jpg', 'H0005.jpg', 'H0006.jpg', 'H0011.jpg', 'H0012.jpg', 'H0015.jpg', 'H0017.jpg', 'H0018.jpg', 'H0019.jpg', 'H0020.jpg', 'H0021.jpg', 'H0022.jpg', 'H0023.jpg', 'H0026.jpg', 'N0004.jpg', 'N0005.jpg', 'N0006.jpg', 'N0007.jpg', 'N0008.jpg', 'N0009.jpg', 'N0011.jpg', 'N0012.jpg', 'N0018.jpg', 'N0020.jpg', 'N0021.jpg', 'N0023.jpg', 'N0029.jpg', 'N0035.jpg', 'N0038.jpg', 'N0040.jpg', 'N0041.jpg', 'N0044.jpg', 'N0045.jpg', 'N0048.jpg', 'N0049.jpg', 'N0050.jpg', 'N0051.jpg', 'N0054.jpg', 'N0058.jpg', 'N0059.jpg', 'N0062.jpg', 'N0063.jpg', 'N0066.jpg', 'N0067.jpg', 'N0068.jpg', 'N0072.jpg', 'N0073.jpg', 'N0075.jpg', 'N0077.jpg', 'N0078.jpg', 'N0080.jpg', 'N0081.jpg', 'N0086.jpg', 'N0087.jpg', 'N0089.jpg', 'N0090.jpg', 'N0091.jpg', 'N0094.jpg', 'N0095.jpg', 'N0096.jpg', 'N0097.jpg', 'N0100.jpg', 'N0101.jpg', 'N0102.jpg', 'N0103.jpg', 'N0104.jpg', 'N0105.jpg', 'N0106.jpg', 'N0107.jpg', 'N0112.jpg', 'N0114.jpg', 'N0115.jpg', 'N0116.jpg', 'N0117.jpg', 'N0118.jpg', 'N0119.jpg', 'N0120.jpg', 'N0121.jpg', 'N0131.jpg', 'N0133.jpg', 'N0136.jpg', 'N0138.jpg', 'N0139.jpg', 'N0140.jpg', 'N0141.jpg', 'N0142.jpg', 'N0143.jpg', 'N0144.jpg', 'N0145.jpg', 'N0146.jpg', 'N0150.jpg', 'N0151.jpg', 'N0152.jpg', 'N0153.jpg', 'N0154.jpg', 'N0155.jpg', 'N0156.jpg', 'N0159.jpg', 'P0001.jpg', 'P0002.jpg', 'P0003.jpg', 'P0004.jpg', 'P0005.jpg', 'P0006.jpg', 'P0007.jpg', 'P0008.jpg', 'P0009.jpg', 'P0010.jpg', 'P0011.jpg', 'P0012.jpg', 'P0013.jpg', 'P0014.jpg', 'P0015.jpg', 'P0016.jpg', 'P0017.jpg', 'P0018.jpg', 'P0019.jpg', 'P0020.jpg', 'P0021.jpg', 'P0022.jpg', 'P0023.jpg', 'P0024.jpg', 'P0025.jpg', 'P0026.jpg', 'P0027.jpg', 'P0028.jpg', 'P0029.jpg', 'P0030.jpg', 'P0031.jpg', 'P0032.jpg', 'P0033.jpg', 'P0034.jpg', 'P0035.jpg', 'P0036.jpg', 'P0037.jpg', 'P0038.jpg', 'P0039.jpg', 'P0040.jpg', 'P0041.jpg', 'P0042.jpg', 'P0043.jpg', 'P0044.jpg', 'P0045.jpg', 'P0046.jpg', 'P0047.jpg', 'P0048.jpg', 'P0049.jpg', 'P0050.jpg', 'P0051.jpg', 'P0052.jpg', 'P0053.jpg', 'P0054.jpg', 'P0055.jpg', 'P0056.jpg', 'P0057.jpg', 'P0058.jpg', 'P0059.jpg', 'P0060.jpg', 'P0061.jpg', 'P0062.jpg', 'P0063.jpg', 'P0064.jpg', 'P0065.jpg', 'P0066.jpg', 'P0067.jpg', 'P0068.jpg', 'P0069.jpg', 'P0071.jpg', 'P0072.jpg', 'P0073.jpg', 'P0074.jpg', 'P0075.jpg', 'P0077.jpg', 'P0079.jpg', 'P0080.jpg', 'P0081.jpg', 'P0082.jpg', 'P0083.jpg', 'P0084.jpg', 'P0085.jpg', 'P0086.jpg', 'P0087.jpg', 'P0088.jpg', 'P0089.jpg', 'P0090.jpg', 'P0091.jpg', 'P0092.jpg', 'P0093.jpg', 'P0094.jpg', 'P0095.jpg', 'P0096.jpg', 'P0097.jpg', 'P0098.jpg', 'P0099.jpg', 'P0100.jpg', 'P0101.jpg', 'P0102.jpg', 'P0103.jpg', 'P0104.jpg', 'P0105.jpg', 'P0106.jpg', 'P0107.jpg', 'P0108.jpg', 'P0109.jpg', 'P0110.jpg', 'P0111.jpg', 'P0112.jpg', 'P0113.jpg', 'P0114.jpg', 'P0115.jpg', 'P0116.jpg', 'P0117.jpg', 'P0118.jpg', 'P0119.jpg', 'P0120.jpg', 'P0121.jpg', 'P0122.jpg', 'P0123.jpg', 'P0124.jpg', 'P0125.jpg', 'P0126.jpg', 'P0127.jpg', 'P0128.jpg', 'P0129.jpg', 'P0130.jpg', 'P0131.jpg', 'P0132.jpg', 'P0133.jpg', 'P0134.jpg', 'P0135.jpg', 'P0136.jpg', 'P0137.jpg', 'P0138.jpg', 'P0139.jpg', 'P0140.jpg', 'P0141.jpg', 'P0142.jpg', 'P0143.jpg', 'P0144.jpg', 'P0145.jpg', 'P0146.jpg', 'P0147.jpg', 'P0148.jpg', 'P0149.jpg', 'P0150.jpg', 'P0151.jpg', 'P0152.jpg', 'P0153.jpg', 'P0154.jpg', 'P0155.jpg', 'P0156.jpg', 'P0157.jpg', 'P0158.jpg', 'P0159.jpg', 'P0160.jpg', 'P0161.jpg', 'P0162.jpg', 'P0163.jpg', 'P0164.jpg', 'P0165.jpg', 'P0166.jpg', 'P0167.jpg', 'P0168.jpg', 'P0169.jpg', 'P0170.jpg', 'P0171.jpg', 'P0172.jpg', 'P0173.jpg', 'P0174.jpg', 'P0175.jpg', 'P0176.jpg', 'P0177.jpg', 'P0178.jpg', 'P0179.jpg', 'P0180.jpg', 'P0181.jpg', 'P0182.jpg', 'P0183.jpg', 'P0184.jpg', 'P0185.jpg', 'P0186.jpg', 'P0187.jpg', 'P0188.jpg', 'P0189.jpg', 'P0190.jpg', 'P0191.jpg', 'P0192.jpg', 'P0193.jpg', 'P0194.jpg', 'P0195.jpg', 'P0196.jpg', 'P0197.jpg', 'P0198.jpg', 'P0199.jpg', 'P0200.jpg', 'P0201.jpg', 'P0202.jpg', 'P0203.jpg', 'P0204.jpg', 'P0205.jpg', 'P0206.jpg', 'P0207.jpg', 'P0208.jpg', 'P0209.jpg', 'P0210.jpg', 'P0211.jpg', 'P0212.jpg', 'P0213.jpg']\n"
     ]
    }
   ],
   "source": [
    "train_path = next(os.walk('fundus/'))[2]\n",
    "train_ids = sorted(train_path)\n",
    "# train_ids = train_ids[317:]\n",
    "# train_ids = ['P0166.jpg','P0200.jpg','P0130.jpg']\n",
    "print(train_ids)"
   ]
  },
  {
   "cell_type": "code",
   "execution_count": 3,
   "metadata": {},
   "outputs": [],
   "source": [
    "path = 'PPA_images'\n",
    "for filename in train_ids:\n",
    "    mId = filename.split('.')[0]\n",
    "    img = cv2.imread('PPAMaskCreation/'+mId+'.bmp',0)\n",
    "    #imm=cv2.imread('ODMasks/'+mId+'.bmp',0)\n",
    "    iml=cv2.imread('AllFundusPPA/'+mId+'.jpg',0)\n",
    "#     img = cv2.resize(img1, (400,400))\n",
    "    #ret,thresh = cv2.threshold(img,120,255,0)\n",
    "    #contours,hierarchy = cv2.findContours(thresh, 1, 2)\n",
    "    #cnt = contours[0]\n",
    "    #cnt = contours[0]\n",
    "    #M = cv2.moments(cnt)\n",
    "    #(x,y),radius = cv2.minEnclosingCircle(cnt)\n",
    "    #center = (int(x),int(y))\n",
    "    #radius = int(radius)\n",
    "    #radius += 20\n",
    "    #for i in range(1,110):\n",
    "     #   img = cv2.circle(img,center,radius-i,(0,255,0),85)\n",
    "    # print(radius)\n",
    "    img2 = cv2.imread('fundus/'+filename)\n",
    "    img2=cv2.resize(img2,(128,128))\n",
    "    fimg = cv2.bitwise_or(img,iml)\n",
    "    #fimg=cv2.bitwise_or(fimg,iml)\n",
    "    #fimg = cv2.cvtColor(fimg,cv2.COLOR_GRAY2RGB)\n",
    "    fimg=cv2.resize(fimg,(128,128))\n",
    "    for i in range(128):\n",
    "        for j in range(128):\n",
    "            if fimg[i,j]!=255:\n",
    "                img2[i,j]=img2[i,j]\n",
    "            else:\n",
    "                img2[i,j]=255\n",
    "    cv2.imwrite(os.path.join(path ,mId+'.jpg'), img2)\n",
    "# cv2.imshow('detected circles',img)\n",
    "# cv2.waitKey(0)\n",
    "# cv2.destroyAllWindows()"
   ]
  },
  {
   "cell_type": "code",
   "execution_count": null,
   "metadata": {},
   "outputs": [],
   "source": []
  }
 ],
 "metadata": {
  "kernelspec": {
   "display_name": "Python 3",
   "language": "python",
   "name": "python3"
  },
  "language_info": {
   "codemirror_mode": {
    "name": "ipython",
    "version": 3
   },
   "file_extension": ".py",
   "mimetype": "text/x-python",
   "name": "python",
   "nbconvert_exporter": "python",
   "pygments_lexer": "ipython3",
   "version": "3.7.5"
  }
 },
 "nbformat": 4,
 "nbformat_minor": 4
}
