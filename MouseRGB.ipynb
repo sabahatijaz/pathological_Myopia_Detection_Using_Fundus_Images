{
 "cells": [
  {
   "cell_type": "code",
   "execution_count": null,
   "metadata": {},
   "outputs": [],
   "source": [
    "import cv2\n",
    "import numpy as np\n",
    "\n",
    "\n",
    "def mouseRGB(event,x,y,flags,param):\n",
    "    if event == cv2.EVENT_LBUTTONDOWN: #checks mouse left button down condition\n",
    "        #colorsB = image[y,x,0]\n",
    "        #colorsG = image[y,x,1]\n",
    "        #colorsR = image[y,x,2]\n",
    "        colors = image[y,x]\n",
    "        #print(\"Red: \",colorsR)\n",
    "        #print(\"Green: \",colorsG)\n",
    "        #print(\"Blue: \",colorsB)\n",
    "        print(\"BRG Format: \",colors)\n",
    "        print(\"Coordinates of pixel: X: \",x,\"Y: \",y)\n",
    "        \n",
    "\n",
    "# Read an image, a window and bind the function to window\n",
    "image = cv2.imread('fundus/'+'P0162'+'.jpg',0)\n",
    "#image=cv2.resize(image,(800,800))\n",
    "image = cv2.resize(image, (128, 128))\n",
    "#green = image[:, :, 1]\n",
    "\n",
    "#clahe = cv2.createCLAHE(clipLimit=2.0, tileGridSize=(8, 8))\n",
    "#clahe_img = clahe.apply(green)\n",
    "#image=clahe_img\n",
    "cv2.imshow('mouseRGB',image)\n",
    "cv2.namedWindow('mouseRGB')\n",
    "cv2.setMouseCallback('mouseRGB',mouseRGB)\n",
    "\n",
    "\n",
    "cv2.waitKey()\n",
    "#if esc pressed, finish.\n",
    "cv2.destroyAllWindows()"
   ]
  },
  {
   "cell_type": "code",
   "execution_count": null,
   "metadata": {},
   "outputs": [],
   "source": []
  },
  {
   "cell_type": "code",
   "execution_count": null,
   "metadata": {},
   "outputs": [],
   "source": []
  },
  {
   "cell_type": "code",
   "execution_count": null,
   "metadata": {},
   "outputs": [],
   "source": []
  }
 ],
 "metadata": {
  "kernelspec": {
   "display_name": "Python 3",
   "language": "python",
   "name": "python3"
  },
  "language_info": {
   "codemirror_mode": {
    "name": "ipython",
    "version": 3
   },
   "file_extension": ".py",
   "mimetype": "text/x-python",
   "name": "python",
   "nbconvert_exporter": "python",
   "pygments_lexer": "ipython3",
   "version": "3.7.5"
  }
 },
 "nbformat": 4,
 "nbformat_minor": 4
}
