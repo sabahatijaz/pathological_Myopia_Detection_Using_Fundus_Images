{
 "cells": [
  {
   "cell_type": "code",
   "execution_count": 1,
   "metadata": {},
   "outputs": [
    {
     "name": "stdout",
     "output_type": "stream",
     "text": [
      "[[ 0  7  1]\n",
      " [ 0 34  3]\n",
      " [ 0  0 80]]\n",
      "                      precision    recall  f1-score   support\n",
      "\n",
      "        HighlyMyopic       0.00      0.00      0.00         8\n",
      "              Normal       0.83      0.92      0.87        37\n",
      "PathologicallyMyopic       0.95      1.00      0.98        80\n",
      "\n",
      "            accuracy                           0.91       125\n",
      "           macro avg       0.59      0.64      0.62       125\n",
      "        weighted avg       0.85      0.91      0.88       125\n",
      "\n",
      "0.912\n",
      "[0.9375     0.93548387 0.90322581 0.93548387 0.93548387 0.90322581\n",
      " 0.90322581 0.83870968 0.96774194 0.96774194]\n",
      "0.9227822580645164\n"
     ]
    },
    {
     "name": "stderr",
     "output_type": "stream",
     "text": [
      "/home/sabahat/.local/lib/python3.7/site-packages/sklearn/metrics/_classification.py:1272: UndefinedMetricWarning: Precision and F-score are ill-defined and being set to 0.0 in labels with no predicted samples. Use `zero_division` parameter to control this behavior.\n",
      "  _warn_prf(average, modifier, msg_start, len(result))\n",
      "/home/sabahat/.local/lib/python3.7/site-packages/sklearn/utils/validation.py:760: DataConversionWarning: A column-vector y was passed when a 1d array was expected. Please change the shape of y to (n_samples, ), for example using ravel().\n",
      "  y = column_or_1d(y, warn=True)\n",
      "/home/sabahat/.local/lib/python3.7/site-packages/sklearn/utils/validation.py:760: DataConversionWarning: A column-vector y was passed when a 1d array was expected. Please change the shape of y to (n_samples, ), for example using ravel().\n",
      "  y = column_or_1d(y, warn=True)\n",
      "/home/sabahat/.local/lib/python3.7/site-packages/sklearn/utils/validation.py:760: DataConversionWarning: A column-vector y was passed when a 1d array was expected. Please change the shape of y to (n_samples, ), for example using ravel().\n",
      "  y = column_or_1d(y, warn=True)\n",
      "/home/sabahat/.local/lib/python3.7/site-packages/sklearn/utils/validation.py:760: DataConversionWarning: A column-vector y was passed when a 1d array was expected. Please change the shape of y to (n_samples, ), for example using ravel().\n",
      "  y = column_or_1d(y, warn=True)\n",
      "/home/sabahat/.local/lib/python3.7/site-packages/sklearn/utils/validation.py:760: DataConversionWarning: A column-vector y was passed when a 1d array was expected. Please change the shape of y to (n_samples, ), for example using ravel().\n",
      "  y = column_or_1d(y, warn=True)\n",
      "/home/sabahat/.local/lib/python3.7/site-packages/sklearn/utils/validation.py:760: DataConversionWarning: A column-vector y was passed when a 1d array was expected. Please change the shape of y to (n_samples, ), for example using ravel().\n",
      "  y = column_or_1d(y, warn=True)\n",
      "/home/sabahat/.local/lib/python3.7/site-packages/sklearn/utils/validation.py:760: DataConversionWarning: A column-vector y was passed when a 1d array was expected. Please change the shape of y to (n_samples, ), for example using ravel().\n",
      "  y = column_or_1d(y, warn=True)\n",
      "/home/sabahat/.local/lib/python3.7/site-packages/sklearn/utils/validation.py:760: DataConversionWarning: A column-vector y was passed when a 1d array was expected. Please change the shape of y to (n_samples, ), for example using ravel().\n",
      "  y = column_or_1d(y, warn=True)\n",
      "/home/sabahat/.local/lib/python3.7/site-packages/sklearn/utils/validation.py:760: DataConversionWarning: A column-vector y was passed when a 1d array was expected. Please change the shape of y to (n_samples, ), for example using ravel().\n",
      "  y = column_or_1d(y, warn=True)\n",
      "/home/sabahat/.local/lib/python3.7/site-packages/sklearn/utils/validation.py:760: DataConversionWarning: A column-vector y was passed when a 1d array was expected. Please change the shape of y to (n_samples, ), for example using ravel().\n",
      "  y = column_or_1d(y, warn=True)\n"
     ]
    }
   ],
   "source": [
    "import pandas as pd\n",
    "from sklearn import model_selection\n",
    "from sklearn import svm\n",
    "\n",
    "# Read dataset into pandas dataframe\n",
    "df = pd.read_csv('PPA.csv',names=['Entropy', 'class'])\n",
    "features = ['Entropy']\n",
    "\n",
    "# Extract features\n",
    "X = df.loc[:, features].values\n",
    "\n",
    "# Extract target i.e. iris species\n",
    "Y = df.loc[:, ['class']].values\n",
    "\n",
    "# Now using scikit-learn model_selection module, split the iris data into train/test data sets\n",
    "\n",
    "# keeping 40% reserved for testing purpose and 60% data will be used to train and form model.\n",
    "X_train, X_test, Y_train, Y_test = model_selection.train_test_split (X, Y, test_size=0.4)\n",
    "#pd.isnull(X_train).sum() > 0\n",
    "# Build an SVC (Support Vector Classification) model using linear regression\n",
    "clf_ob = svm.SVC(kernel='linear', gamma=0.001 ,C=0.99).fit(X_train, Y_train.ravel())\n",
    "y_pred = clf_ob.predict(X_test)\n",
    "#print(y_pred)\n",
    "from sklearn.metrics import classification_report, confusion_matrix\n",
    "print(confusion_matrix(Y_test,y_pred))\n",
    "print(classification_report(Y_test,y_pred))\n",
    "print(clf_ob.score(X_test, Y_test))\n",
    "# Further, let’s now validate robustness of above model using K-Fold Cross validation technique\n",
    "\n",
    "# We give cross_val_score a model, the entire iris data set and its real values, and the number of folds:\n",
    "\n",
    "scores_res = model_selection.cross_val_score(clf_ob, X, Y, cv=10)\n",
    "\n",
    "# Print the accuracy of each fold (i.e. 5 as above we asked cv 5)\n",
    "print(scores_res)\n",
    "\n",
    "# And the mean accuracy of all 5 folds.\n",
    "print(scores_res.mean())\n"
   ]
  },
  {
   "cell_type": "code",
   "execution_count": 2,
   "metadata": {},
   "outputs": [
    {
     "name": "stdout",
     "output_type": "stream",
     "text": [
      "Accuracy: 0.912\n",
      "F1 score: 0.8824415259537212\n",
      "Recall: 0.912\n",
      "Precision: 0.8549872241579558\n"
     ]
    },
    {
     "name": "stderr",
     "output_type": "stream",
     "text": [
      "/home/sabahat/.local/lib/python3.7/site-packages/sklearn/metrics/_classification.py:1272: UndefinedMetricWarning: Precision is ill-defined and being set to 0.0 in labels with no predicted samples. Use `zero_division` parameter to control this behavior.\n",
      "  _warn_prf(average, modifier, msg_start, len(result))\n"
     ]
    }
   ],
   "source": [
    "from sklearn.metrics import precision_score\n",
    "from sklearn.metrics import accuracy_score\n",
    "from sklearn.metrics import recall_score\n",
    "from sklearn.metrics import f1_score\n",
    "\n",
    "print( 'Accuracy:', accuracy_score(Y_test, y_pred))\n",
    "print ('F1 score:', f1_score(Y_test, y_pred,average='weighted'))\n",
    "print ('Recall:', recall_score(Y_test, y_pred,\n",
    "                              average='weighted'))\n",
    "print( 'Precision:', precision_score(Y_test, y_pred,\n",
    "                                    average='weighted'))"
   ]
  },
  {
   "cell_type": "code",
   "execution_count": 8,
   "metadata": {},
   "outputs": [
    {
     "name": "stderr",
     "output_type": "stream",
     "text": [
      "/home/sabahat/.local/lib/python3.7/site-packages/sklearn/externals/joblib/__init__.py:15: FutureWarning: sklearn.externals.joblib is deprecated in 0.21 and will be removed in 0.23. Please import this functionality directly from joblib, which can be installed with: pip install joblib. If this warning is raised when loading pickled models, you may need to re-serialize those models with scikit-learn 0.21+.\n",
      "  warnings.warn(msg, category=FutureWarning)\n"
     ]
    },
    {
     "data": {
      "text/plain": [
       "['PPA.pkl']"
      ]
     },
     "execution_count": 8,
     "metadata": {},
     "output_type": "execute_result"
    }
   ],
   "source": [
    "from sklearn.externals import joblib \n",
    "  \n",
    "# Save the model as a pickle in a file \n",
    "joblib.dump(clf_ob, 'PPA.pkl') \n",
    "  \n",
    "# Use the loaded model to make predictions \n",
    "#knn_from_joblib.predict(X_test) "
   ]
  },
  {
   "cell_type": "code",
   "execution_count": null,
   "metadata": {},
   "outputs": [],
   "source": []
  }
 ],
 "metadata": {
  "kernelspec": {
   "display_name": "Python 3",
   "language": "python",
   "name": "python3"
  },
  "language_info": {
   "codemirror_mode": {
    "name": "ipython",
    "version": 3
   },
   "file_extension": ".py",
   "mimetype": "text/x-python",
   "name": "python",
   "nbconvert_exporter": "python",
   "pygments_lexer": "ipython3",
   "version": "3.7.5"
  }
 },
 "nbformat": 4,
 "nbformat_minor": 4
}
